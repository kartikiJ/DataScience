{
    "cells": [
        {
            "cell_type": "markdown",
            "metadata": {},
            "source": "# The battle of Neighborhoods"
        },
        {
            "cell_type": "markdown",
            "metadata": {
                "collapsed": true
            },
            "source": "## Data Description"
        },
        {
            "cell_type": "markdown",
            "metadata": {},
            "source": "### Title: Analysing Dealers and recommending them in Pune"
        },
        {
            "cell_type": "markdown",
            "metadata": {},
            "source": "### Data Requirements:\n\nData requirements for this project require data specific Pune city. The data will be used from wikipedia page with link given below. \n\nTo find a solution to the questions and build a recommender model, we need data and lots of data. Data can answer question which are unimaginable and non answerable by humans because humans do not have the tendency to analyse such large dataset and produce analtics to find a solutions.\n\nFew details of the data required are:\n1. To access location of a dealer, its Latitude and Longitude is to be known so that we can point at its coordinates and create a map displaying all the dealers with its labels respectively.\n2. Population of a neighborhood is very important factor in determining a dealer's growth and amount of customers who turn up to service. Logically, the more the population of a neighborhood, the more people will be interested to walk openly into a dealer and less the population, less number of people frequently visit a dealer. Also if more people visit, better the dealer is rated because it is accessed by different people with different manufacturing companies. Hence is is very important factor.\n3. Income of a neighborhood is also very important factor as population was. Income is directly proportional to richness of a neighborhood. If people in a neighborhood earns more than an average income, then it is very much possible that they will spend more however not always true with very less probability. "
        },
        {
            "cell_type": "markdown",
            "metadata": {},
            "source": "https://en.wikipedia.org/wiki/List_of_neighbourhoods_in_Pune"
        },
        {
            "cell_type": "code",
            "execution_count": null,
            "metadata": {},
            "outputs": [],
            "source": ""
        }
    ],
    "metadata": {
        "kernelspec": {
            "display_name": "Python 3.6",
            "language": "python",
            "name": "python3"
        },
        "language_info": {
            "codemirror_mode": {
                "name": "ipython",
                "version": 3
            },
            "file_extension": ".py",
            "mimetype": "text/x-python",
            "name": "python",
            "nbconvert_exporter": "python",
            "pygments_lexer": "ipython3",
            "version": "3.6.9"
        }
    },
    "nbformat": 4,
    "nbformat_minor": 1
}