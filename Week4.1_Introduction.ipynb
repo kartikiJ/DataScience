{
    "cells": [
        {
            "cell_type": "markdown",
            "metadata": {
                "collapsed": true
            },
            "source": "# The battle of Neighborhoods"
        },
        {
            "cell_type": "markdown",
            "metadata": {},
            "source": "## Introduction"
        },
        {
            "cell_type": "markdown",
            "metadata": {},
            "source": "### Title: Analysing Dealers and recommending them in Pune"
        },
        {
            "cell_type": "markdown",
            "metadata": {},
            "source": "### Problem Background:\n\nCurrently, I am working with a agriculture machinery manufacturing company. \n\nUsing the Foursquare data to track the dealers locations and to analyse the customer spend pattern and dealer satisfactory rating by customers would be helpful in undrestanding any relation between specific regions and frequency and intensity of complaints received from customers.\n\nThe location data updated at every customer's end would help the customer too in understanding dealer locations near to him and to understand other things like tips/ratings of each dealer.\n\nTypical problems addressed in this exercise would be:\n1. How many dealers are there based on proximity to each target audience.\n2. Which is the dealer with best rating?\n3. How many dealers from same company are located in specific areas?\n4. What unique dealers are located in Pune and open for business?"
        },
        {
            "cell_type": "markdown",
            "metadata": {},
            "source": "### Target Audience:\n\nPoeple purchasing the ahriculture machinery equipment who can explore dealers based on the proximity to their location and can can also explore the ratings of each dealer."
        },
        {
            "cell_type": "code",
            "execution_count": null,
            "metadata": {},
            "outputs": [],
            "source": ""
        }
    ],
    "metadata": {
        "kernelspec": {
            "display_name": "Python 3.6",
            "language": "python",
            "name": "python3"
        },
        "language_info": {
            "codemirror_mode": {
                "name": "ipython",
                "version": 3
            },
            "file_extension": ".py",
            "mimetype": "text/x-python",
            "name": "python",
            "nbconvert_exporter": "python",
            "pygments_lexer": "ipython3",
            "version": "3.6.9"
        }
    },
    "nbformat": 4,
    "nbformat_minor": 1
}