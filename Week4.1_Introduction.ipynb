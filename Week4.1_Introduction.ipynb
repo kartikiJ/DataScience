{
    "cells": [
        {
            "cell_type": "markdown",
            "metadata": {
                "collapsed": true
            },
            "source": "# Introduction"
        },
        {
            "cell_type": "markdown",
            "metadata": {},
            "source": "### Currently, I am working with a agriculture machinery manufacturing company. \n### Using the Foursquare data to track the dealers locations and to analyse the customer spend pattern and dealer satisfactory rating by customers would be helpful in undrestanding any relation between specific regions and frequency and intensity of complaints received from customers.\n### The location data updated at every customer's end would help the customer too in understanding dealer locations near to him and to understand other things like tips/ratings of each dealer."
        },
        {
            "cell_type": "code",
            "execution_count": null,
            "metadata": {},
            "outputs": [],
            "source": ""
        }
    ],
    "metadata": {
        "kernelspec": {
            "display_name": "Python 3.6",
            "language": "python",
            "name": "python3"
        },
        "language_info": {
            "codemirror_mode": {
                "name": "ipython",
                "version": 3
            },
            "file_extension": ".py",
            "mimetype": "text/x-python",
            "name": "python",
            "nbconvert_exporter": "python",
            "pygments_lexer": "ipython3",
            "version": "3.6.9"
        }
    },
    "nbformat": 4,
    "nbformat_minor": 1
}